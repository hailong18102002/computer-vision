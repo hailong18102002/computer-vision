{
  "nbformat": 4,
  "nbformat_minor": 0,
  "metadata": {
    "colab": {
      "provenance": [],
      "authorship_tag": "ABX9TyNAgpSuN4TF4CMATC8PDIIA",
      "include_colab_link": true
    },
    "kernelspec": {
      "name": "python3",
      "display_name": "Python 3"
    },
    "language_info": {
      "name": "python"
    },
    "accelerator": "GPU",
    "gpuClass": "standard"
  },
  "cells": [
    {
      "cell_type": "markdown",
      "metadata": {
        "id": "view-in-github",
        "colab_type": "text"
      },
      "source": [
        "<a href=\"https://colab.research.google.com/github/hailong18102002/computer-vision/blob/main/bilinear_interpolation_Alleysons_malva_2004.ipynb\" target=\"_parent\"><img src=\"https://colab.research.google.com/assets/colab-badge.svg\" alt=\"Open In Colab\"/></a>"
      ]
    },
    {
      "cell_type": "code",
      "execution_count": null,
      "metadata": {
        "id": "ZSXhaG5nwAnA"
      },
      "outputs": [],
      "source": [
        "from google.colab import drive\n",
        "drive.mount('/content/gdrive')"
      ]
    },
    {
      "cell_type": "markdown",
      "source": [
        "**import lib**"
      ],
      "metadata": {
        "id": "9JG4abqETuhy"
      }
    },
    {
      "cell_type": "code",
      "source": [
        "import cv2\n",
        "import math\n",
        "import numpy as np\n",
        "from matplotlib import pyplot as plt\n",
        "import os\n",
        "from PIL import Image\n",
        "from google.colab.patches import cv2_imshow\n",
        "from sklearn.preprocessing import MinMaxScaler\n",
        "import scipy.signal as signal\n",
        "import matplotlib.image as mpimg\n",
        "import matplotlib.cm as cm\n",
        "import skimage.io\n",
        "import skimage.metrics\n",
        "import tensorflow as tf\n"
      ],
      "metadata": {
        "id": "GboVkfiRw3mN"
      },
      "execution_count": null,
      "outputs": []
    },
    {
      "cell_type": "markdown",
      "source": [
        "**malva-2004**"
      ],
      "metadata": {
        "id": "AbSJLrHsmZbr"
      }
    },
    {
      "cell_type": "code",
      "source": [
        "def make_cfa(img):\n",
        "    cfa = np.zeros_like(img[:,:,0])\n",
        "    y, x = np.mgrid[0:cfa.shape[0], 0:cfa.shape[1]]\n",
        "    Rloc = (np.mod(x, 2) == 0) & (np.mod(y, 2) == 0)\n",
        "    Gloc = np.mod(x+y, 2) == 1\n",
        "    Bloc = (np.mod(x, 2) == 1) & (np.mod(y, 2) == 1)\n",
        "    cfa[Rloc] = img[Rloc,0]\n",
        "    cfa[Gloc] = img[Gloc,1]\n",
        "    cfa[Bloc] = img[Bloc,2]\n",
        "    return cfa\n",
        "\n",
        "# Four kernels to be convolved with CFA array\n",
        "def _G_at_BR(cfa):\n",
        "    kernel = [[ 0,   0, -1.0, 0,    0],\n",
        "              [ 0,   0,    2, 0,    0],\n",
        "              [-1.0, 2,    4, 2, -1.0],\n",
        "              [ 0,   0,    2, 0,    0],\n",
        "              [ 0,   0, -1.0, 0,    0]]\n",
        "    return signal.convolve(cfa, kernel, mode='same')/8.\n",
        "\n",
        "# red value at green pixel in red row and blue col or...\n",
        "# blue value at green pixel in blue row and red col.\n",
        "def _RB_at_G_in_RBrow_BRcol(cfa):\n",
        "    kernel = [[ 0,  0, 0.5,  0,  0],\n",
        "              [ 0, -1,   0, -1,  0],\n",
        "              [-1,  4,   5,  4, -1],\n",
        "              [ 0, -1,   0, -1,  0],\n",
        "              [ 0,  0, 0.5,  0,  0]]\n",
        "    return signal.convolve(cfa, kernel, mode='same')/8.\n",
        "\n",
        "# red value at green pixel in blue row and red col or...\n",
        "# blue value at green pixel in red row and blue col.\n",
        "def _RB_at_G_in_BRrow_RBcol(cfa):\n",
        "    kernel = [[ 0,  0, -1,  0,   0],\n",
        "              [ 0, -1,  4, -1,   0],\n",
        "              [0.5, 0,  5,  0, 0.5],\n",
        "              [ 0, -1,  4, -1,   0],\n",
        "              [ 0,  0, -1,  0,   0]]\n",
        "    return signal.convolve(cfa, kernel, mode='same')/8.\n",
        "\n",
        "# red value at blue pixel or...\n",
        "# blue value at red pixel.\n",
        "def _RB_at_BR(cfa):\n",
        "    kernel = [[ 0,   0, -1.5, 0,    0],\n",
        "              [ 0,   2,    0, 2,    0],\n",
        "              [-1.5, 0,    6, 0, -1.5],\n",
        "              [ 0,   2,    0, 2,    0],\n",
        "              [ 0,   0, -1.5, 0,    0]]\n",
        "    return signal.convolve(cfa, kernel, mode='same')/8.\n",
        "\n",
        "def hqli(cfa):\n",
        "    # initialize output arrays\n",
        "    R = np.zeros_like(cfa, dtype=np.float64)\n",
        "    G = np.zeros_like(cfa, dtype=np.float64)\n",
        "    B = np.zeros_like(cfa, dtype=np.float64)\n",
        "    # coordinate index arrays\n",
        "    y, x = np.mgrid[0:cfa.shape[0], 0:cfa.shape[1]]\n",
        "\n",
        "    # create groups of indices based on Bayer pattern\n",
        "    Rloc = (np.mod(x, 2) == 0) & (np.mod(y, 2) == 0)\n",
        "    Gloc = np.mod(x+y, 2) == 1\n",
        "    Bloc = (np.mod(x, 2) == 1) & (np.mod(y, 2) == 1)\n",
        "    G_in_Brow_Rcol = (np.mod(x, 2) == 0) & (np.mod(y, 2) == 1)\n",
        "    G_in_Rrow_Bcol = (np.mod(x, 2) == 1) & (np.mod(y, 2) == 0)\n",
        "\n",
        "    # copy data that doesn't need interpolation\n",
        "    R[Rloc] = cfa[Rloc]\n",
        "    G[Gloc] = cfa[Gloc]\n",
        "    B[Bloc] = cfa[Bloc]\n",
        "\n",
        "    # fill in the green data at the blue/red locations\n",
        "    tmp = _G_at_BR(cfa)\n",
        "    G[Rloc] = tmp[Rloc]\n",
        "    G[Bloc] = tmp[Bloc]\n",
        "\n",
        "    # fill in the blue/red data\n",
        "    tmp = _RB_at_G_in_BRrow_RBcol(cfa)\n",
        "    B[G_in_Rrow_Bcol] = tmp[G_in_Rrow_Bcol]\n",
        "    R[G_in_Brow_Rcol] = tmp[G_in_Brow_Rcol]\n",
        "\n",
        "    tmp = _RB_at_G_in_RBrow_BRcol(cfa)\n",
        "    B[G_in_Brow_Rcol] = tmp[G_in_Brow_Rcol]\n",
        "    R[G_in_Rrow_Bcol] = tmp[G_in_Rrow_Bcol]\n",
        "\n",
        "    tmp = _RB_at_BR(cfa)\n",
        "    B[Rloc] = tmp[Rloc]\n",
        "    R[Bloc] = tmp[Bloc]\n",
        "\n",
        "    R[R<0] = 0\n",
        "    G[G<0] = 0\n",
        "    B[B<0] = 0\n",
        "    if cfa.dtype == np.uint8:\n",
        "        R[R>255] = 255\n",
        "        G[G>255] = 255\n",
        "        B[B>255] = 255\n",
        "    else:\n",
        "        R[R>65535] = 65535\n",
        "        G[G>65535] = 65535\n",
        "        B[B>65535] = 65535\n",
        "\n",
        "    return np.array(np.dstack([R, G, B]), dtype=cfa.dtype)"
      ],
      "metadata": {
        "id": "SGqaAwXLjuXj"
      },
      "execution_count": null,
      "outputs": []
    },
    {
      "cell_type": "markdown",
      "source": [
        "**Alleysons**"
      ],
      "metadata": {
        "id": "hgOU4r2MTyb7"
      }
    },
    {
      "cell_type": "code",
      "source": [
        "def Alleysons(img):\n",
        "    HG = np.array([(0,1,0), (1,4,1),(0,1,0)], dtype = float)/4\n",
        "    HRB = np.array([(1,2,1), (2,4,2),(1,2,1)], dtype = float)/4\n",
        "    [D,C,S]=img.shape\n",
        "    mr=np.zeros((D,C))\n",
        "    mb=np.zeros((D,C))\n",
        "    for i in range(img.shape[0]):\n",
        "      if i%2==0:\n",
        "        for j in range(img.shape[1]):\n",
        "          if j%2==0:\n",
        "            mr[i,j]=1\n",
        "    bgf=int(img.shape[0]-1)\n",
        "    ef=int(img.shape[1]-1)\n",
        "    mb[1:,1:]=mr[:bgf,:ef]\n",
        "    mg=1-mr-mb\n",
        "    Im=np.zeros_like(img)\n",
        "    Im[:,:,0]=img[:,:,0]*mr\n",
        "    Im[:,:,1]=img[:,:,1]*mg\n",
        "    Im[:,:,2]=img[:,:,2]*mb\n",
        "    FL = np.array([(-2,3,-6,3,-2),(3,4,2,4,3),(-6,2,48,2,-6),(3,4,2,4,3),(-2,3,-6,3,-2)], dtype = float)/64\n",
        "    L = cv2.filter2D(Im, -1, FL)\n",
        "    C=Im-L\n",
        "    C1=C[:,:,0]*mr\n",
        "    C2=C[:,:,1]*mg\n",
        "    C3=C[:,:,2]*mb\n",
        "    c1 = cv2.filter2D(C1, -1, HRB)\n",
        "    c2 = cv2.filter2D(C2, -1, HG)\n",
        "    c3 = cv2.filter2D(C3, -1, HRB)\n",
        "    Ir=np.zeros(img.shape)\n",
        "    Ir[:,:,0]=c1+L[:,:,0]\n",
        "    Ir[:,:,1]=c2+L[:,:,1]\n",
        "    Ir[:,:,2]=c3+L[:,:,2]\n",
        "    return Ir\n"
      ],
      "metadata": {
        "id": "qd5jsLAXT2J7"
      },
      "execution_count": null,
      "outputs": []
    },
    {
      "cell_type": "markdown",
      "source": [
        "**bilinear interpolation**"
      ],
      "metadata": {
        "id": "w2JYK29bT8Wr"
      }
    },
    {
      "cell_type": "code",
      "source": [
        "def Bili_inter(img):\n",
        "    HG = np.array([(0,1,0), (1,4,1),(0,1,0)], dtype = float)/4\n",
        "    HRB = np.array([(1,2,1), (2,4,2),(1,2,1)], dtype = float)/4\n",
        "    [D,C,S]=img.shape\n",
        "    mr=np.zeros((D,C))\n",
        "    mb=np.zeros((D,C))\n",
        "    for i in range(img.shape[0]):\n",
        "      if i%2==0:\n",
        "        for j in range(img.shape[1]):\n",
        "          if j%2==0:\n",
        "            mr[i,j]=1\n",
        "    bgf=int(img.shape[0]-1)\n",
        "    ef=int(img.shape[1]-1)\n",
        "    mb[1:,1:]=mr[:bgf,:ef]\n",
        "    mg=1-mr-mb\n",
        "    Im=np.zeros_like(img)\n",
        "    Im[:,:,0]=img[:,:,0]*mr\n",
        "    Im[:,:,1]=img[:,:,1]*mg\n",
        "    Im[:,:,2]=img[:,:,2]*mb\n",
        "    Y1 = cv2.filter2D(Im[:,:,0], -1, HRB)\n",
        "    Y2 = cv2.filter2D(Im[:,:,1], -1, HG)\n",
        "    Y3 = cv2.filter2D(Im[:,:,2], -1, HRB)\n",
        "    Im1=np.zeros_like(img)\n",
        "    Im1[:,:,0]=Y1\n",
        "    Im1[:,:,1]=Y2\n",
        "    Im1[:,:,2]=Y3\n",
        "    return Im1"
      ],
      "metadata": {
        "id": "tqz56BMEUDWj"
      },
      "execution_count": null,
      "outputs": []
    },
    {
      "cell_type": "code",
      "source": [
        "def show_im(img, title):\n",
        "    figsize = (10, 10)\n",
        "    plt.figure(figsize=figsize)\n",
        "    plt.imshow(img)\n",
        "    plt.title(title)\n",
        "    plt.xticks([])\n",
        "    plt.yticks([])\n",
        "    plt.show()\n",
        "\n",
        "def dis_img(root):\n",
        "    fnames=os.listdir(root)\n",
        "    Kodak_img=[]\n",
        "    kodak_img=[]\n",
        "    for i in range (24):\n",
        "      kodak_img=np.uint8(Image.open(os.path.join(root,fnames[i])))\n",
        "      Kodak_img.append(kodak_img)\n",
        "    return Kodak_img\n",
        "\n",
        "def get_PSNR(img,img2,i):\n",
        "    print(skimage.metrics.peak_signal_noise_ratio(img, img2),\"PSNR anh\"+str(i))\n",
        "\n",
        "def get_SSIM(img,img2,i):\n",
        "    im1 = img\n",
        "    im2=img2\n",
        "    # Add an outer batch for each image.\n",
        "    im1 = tf.expand_dims(im1, axis=0)\n",
        "    im2 = tf.expand_dims(im2, axis=0)\n",
        "    # Compute SSIM over tf.uint8 Tensors.\n",
        "    ssim = tf.image.ssim(im1, im2, max_val=255, filter_size=11)\n",
        "    print(ssim,\"ssim\"+str(i))"
      ],
      "metadata": {
        "id": "nq5oq7JoMUzw"
      },
      "execution_count": null,
      "outputs": []
    },
    {
      "cell_type": "markdown",
      "source": [
        "**import data**"
      ],
      "metadata": {
        "id": "NAit9bMQTo18"
      }
    },
    {
      "cell_type": "code",
      "source": [
        "root='//content//gdrive//MyDrive//xử lý ảnh//giữa kỳ xla//kodak database'\n",
        "Kodak_img=dis_img(root)"
      ],
      "metadata": {
        "id": "i7tFK547VJwp"
      },
      "execution_count": null,
      "outputs": []
    },
    {
      "cell_type": "markdown",
      "source": [
        "**PSNR**"
      ],
      "metadata": {
        "id": "82R7qKtARekd"
      }
    },
    {
      "cell_type": "code",
      "source": [
        "for i in range(24):\n",
        "  img1=Bili_inter(Kodak_img[i])\n",
        "  get_PSNR(Kodak_img[i],img1,i)"
      ],
      "metadata": {
        "id": "qkZXdPOQ3tqn"
      },
      "execution_count": null,
      "outputs": []
    },
    {
      "cell_type": "code",
      "source": [
        "for i in range(24):\n",
        "  img1=Alleysons(Kodak_img[i])\n",
        "  get_PSNR(Kodak_img[i],img1,i)"
      ],
      "metadata": {
        "id": "K2vJLiNy4TCP"
      },
      "execution_count": null,
      "outputs": []
    },
    {
      "cell_type": "code",
      "source": [
        "for i in range(24):\n",
        "    cfa_img = make_cfa(Kodak_img[i])\n",
        "    img1 =hqli(cfa_img)\n",
        "    get_PSNR(Kodak_img[i],img1,i)"
      ],
      "metadata": {
        "id": "Zx8IvXUG4akO"
      },
      "execution_count": null,
      "outputs": []
    },
    {
      "cell_type": "markdown",
      "source": [
        "**SSIM**"
      ],
      "metadata": {
        "id": "WQzX7VmURhZv"
      }
    },
    {
      "cell_type": "code",
      "source": [
        "for i in range (24):\n",
        "  im1 = Kodak_img[i]\n",
        "  im2 = Bili_inter(Kodak_img[i]).astype('uint8')\n",
        "  # Add an outer batch for each image.\n",
        "  im1 = tf.expand_dims(im1, axis=0)\n",
        "  im2 = tf.expand_dims(im2, axis=0)\n",
        "  # Compute SSIM over tf.uint8 Tensors.\n",
        "  get_SSIM(im1,im2,i)\n"
      ],
      "metadata": {
        "id": "B8t3zzU94YIH"
      },
      "execution_count": null,
      "outputs": []
    },
    {
      "cell_type": "code",
      "source": [
        "for i in range (24):\n",
        "  im1 = Kodak_img[i]\n",
        "  im2 = Alleysons(Kodak_img[i]).astype('uint8')\n",
        "  # Add an outer batch for each image.\n",
        "  im1 = tf.expand_dims(im1, axis=0)\n",
        "  im2 = tf.expand_dims(im2, axis=0)\n",
        "  # Compute SSIM over tf.uint8 Tensors.\n",
        "  get_SSIM(im1,im2,i)"
      ],
      "metadata": {
        "id": "oXISyNZdS-gd"
      },
      "execution_count": null,
      "outputs": []
    },
    {
      "cell_type": "code",
      "source": [
        "for i in range (24):\n",
        "  im1 = Kodak_img[i]\n",
        "  cfa_img = make_cfa(im1)\n",
        "  im2 = hqli(cfa_img).astype('uint8')\n",
        "  # Add an outer batch for each image.\n",
        "  im1 = tf.expand_dims(im1, axis=0)\n",
        "  im2 = tf.expand_dims(im2, axis=0)\n",
        "  # Compute SSIM over tf.uint8 Tensors.\n",
        "  get_SSIM(im1,im2,i)"
      ],
      "metadata": {
        "id": "ly5ayyBeTBu9"
      },
      "execution_count": null,
      "outputs": []
    },
    {
      "cell_type": "code",
      "source": [
        "fig , axs = plt.subplots(nrows=1, n cols=4)\n",
        "axs = axs.flatten()\n",
        "axs[0].imshow(Kodak_img[1])\n",
        "axs[0].axis('off')\n",
        "axs[0].set_title(\"ảnh ban đầu \")\n",
        "axs[1].imshow(Alleysons(Kodak_img[1])\n",
        "axs[1].axis('off')\n",
        "axs[1].set_title(\"ảnh ban đầu \")"
      ],
      "metadata": {
        "id": "CGyfpOCwGaMt"
      },
      "execution_count": null,
      "outputs": []
    }
  ]
}